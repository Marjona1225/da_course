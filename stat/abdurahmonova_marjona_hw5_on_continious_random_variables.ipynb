{
 "cells": [
  {
   "cell_type": "markdown",
   "id": "934e2c69-1e25-48d8-98d3-4648465ae1b1",
   "metadata": {},
   "source": [
    "## Домашнее задание по непрерывным случайным размерам\n"
   ]
  },
  {
   "cell_type": "markdown",
   "id": "b1a0478a-d7b4-4ba4-b7c4-3597c9f33c51",
   "metadata": {},
   "source": [
    "### Исполнитель: Abdurahmonova Marjona"
   ]
  },
  {
   "cell_type": "markdown",
   "id": "0654c73b-7a64-4f33-93be-83ce70369e43",
   "metadata": {},
   "source": [
    "1. Есть переменная X с нормальными показателями. Если стандартизированное значение X равно 1,27 (z = 1,27), то какова вероятность\n",
    "П\n",
    "(\n",
    "З\n",
    "≤\n",
    "1.27\n",
    ")\n",
    "?\n"
   ]
  },
  {
   "cell_type": "code",
   "execution_count": 62,
   "id": "f393d2f5-f07c-4332-9250-a572d55c8ff4",
   "metadata": {},
   "outputs": [],
   "source": [
    "from scipy.stats import norm"
   ]
  },
  {
   "cell_type": "code",
   "execution_count": 49,
   "id": "aa6e3206-6065-47f7-b652-c7454aedb87d",
   "metadata": {},
   "outputs": [
    {
     "name": "stdout",
     "output_type": "stream",
     "text": [
      "П ( З ≤ 1.27 ) = 0.8980\n"
     ]
    }
   ],
   "source": [
    "z=1.27\n",
    "probability=norm.cdf(z)\n",
    "\n",
    "print(f'П ( З ≤ 1.27 ) = {probability:.4f}')"
   ]
  },
  {
   "cell_type": "markdown",
   "id": "18b234f3-a713-427b-ab0d-f065b2aa2bca",
   "metadata": {},
   "source": [
    "2. Предположим, что Z — это переменная со стандартным нормальным распределением. Какова вероятность\n",
    "П\n",
    "(\n",
    "−\n",
    "1.76\n",
    "<\n",
    "З\n",
    "<\n",
    "−\n",
    "1.19\n",
    ")\n",
    "?"
   ]
  },
  {
   "cell_type": "code",
   "execution_count": 52,
   "id": "62cd0c22-2888-474a-a0d6-9d9e5b554033",
   "metadata": {},
   "outputs": [
    {
     "name": "stdout",
     "output_type": "stream",
     "text": [
      "П ( − 1.76 < З < − 1.19 ) = 0.0778\n"
     ]
    }
   ],
   "source": [
    "z1=-1.76\n",
    "z2=-1.19\n",
    "\n",
    "probability=norm.cdf(z2)-norm.cdf(z1)\n",
    "\n",
    "print(f'П ( − 1.76 < З < − 1.19 ) = {probability:.4f}')"
   ]
  },
  {
   "cell_type": "markdown",
   "id": "4ce09bee-fd47-4234-8c08-70c8c14a4fa8",
   "metadata": {},
   "source": [
    "3. У 95,45% девушек старших классов вес составляет от 38 до 52 кг. Если предположить, что вес девушек распределен нормально, найдите среднее значение и стандартное отклонение."
   ]
  },
  {
   "cell_type": "code",
   "execution_count": 73,
   "id": "8b65ff3a-0616-48fc-b6a3-1004f371c4b9",
   "metadata": {},
   "outputs": [
    {
     "name": "stdout",
     "output_type": "stream",
     "text": [
      "среднее значение = 45.0\n",
      "стандартное отклонение = 3.5\n"
     ]
    }
   ],
   "source": [
    "lower_weight_limit=38\n",
    "upper_weight_limit=52\n",
    "\n",
    "average_weight=(lower_weight_limit+upper_weight_limit)/2\n",
    "\n",
    "weight_std=(upper_weight_limit-lower_weight_limit)/4\n",
    "\n",
    "print(f'среднее значение = {average_weight}')\n",
    "print(f'стандартное отклонение = {weight_std}')"
   ]
  },
  {
   "cell_type": "markdown",
   "id": "abc0fe6d-f9ba-4a5b-834e-309a427744ec",
   "metadata": {},
   "source": [
    "4. Длина указателя пальца у взрослых мужчин примерно соответствует нормальному распределению, с\n",
    "μ\n",
    "=\n",
    "7.5\n",
    "с\n",
    "м\n",
    "и\n",
    "σ\n",
    "=\n",
    "0,5\n",
    "с\n",
    "м\n",
    ". Какова вероятность того, что длина указательного пальца случайного мужчины будет от 7,3 см до 8,7 см?"
   ]
  },
  {
   "cell_type": "code",
   "execution_count": 76,
   "id": "a60fa289-8022-4a9f-978e-c401843985ec",
   "metadata": {},
   "outputs": [
    {
     "name": "stdout",
     "output_type": "stream",
     "text": [
      "вероятность того, что длина указательного пальца случайного мужчины будет от 7,3 см до 8,7 см = 0.6472\n"
     ]
    }
   ],
   "source": [
    "mu=7.5\n",
    "sigma=0.5\n",
    "\n",
    "z1=(7.3-mu)/sigma\n",
    "z2=(8.7-mu)/sigma\n",
    "\n",
    "probability=norm.cdf(z2)-norm.cdf(z1)\n",
    "\n",
    "print(f'вероятность того, что длина указательного пальца случайного мужчины будет от 7,3 см до 8,7 см = {probability:.4f}')"
   ]
  },
  {
   "cell_type": "markdown",
   "id": "01868dcd-aa83-482f-b863-65bc48489089",
   "metadata": {},
   "source": [
    "5. IQ человека обычно распределённой величины с\n",
    "μ\n",
    "=\n",
    "100\n",
    "и\n",
    "σ\n",
    "=\n",
    "15\n",
    ". Какова вероятность того, что IQ у случайно двух человек будет выше 140?"
   ]
  },
  {
   "cell_type": "code",
   "execution_count": 71,
   "id": "dac71e28-3ca9-42c8-b63d-cf28c7c20db3",
   "metadata": {},
   "outputs": [
    {
     "name": "stdout",
     "output_type": "stream",
     "text": [
      " вероятность того, что IQ у случайно двух человек будет выше 140 = 0.0038\n"
     ]
    }
   ],
   "source": [
    "mu=100\n",
    "sigma=15\n",
    "\n",
    "z=(140-mu)/sigma\n",
    "\n",
    "probability=1-norm.cdf(z)\n",
    "\n",
    "print(f' вероятность того, что IQ у случайно двух человек будет выше 140 = {probability:.4f}')"
   ]
  }
 ],
 "metadata": {
  "kernelspec": {
   "display_name": "Python 3 (ipykernel)",
   "language": "python",
   "name": "python3"
  },
  "language_info": {
   "codemirror_mode": {
    "name": "ipython",
    "version": 3
   },
   "file_extension": ".py",
   "mimetype": "text/x-python",
   "name": "python",
   "nbconvert_exporter": "python",
   "pygments_lexer": "ipython3",
   "version": "3.12.7"
  }
 },
 "nbformat": 4,
 "nbformat_minor": 5
}
