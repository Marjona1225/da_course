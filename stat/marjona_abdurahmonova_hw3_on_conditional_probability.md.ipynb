{
 "cells": [
  {
   "cell_type": "markdown",
   "id": "14798ea0-7b7e-4a9c-9c58-d53fa508d3b4",
   "metadata": {},
   "source": [
    "## Домашнее задание по условной вероятности\n"
   ]
  },
  {
   "cell_type": "markdown",
   "id": "b32156c2-5a36-4bab-967f-0d9a7159f26c",
   "metadata": {},
   "source": [
    "### Исполнитель: Abdurahmonova Marjona"
   ]
  },
  {
   "cell_type": "markdown",
   "id": "1fb18cbd-0ba6-4b06-aaa2-78e232dd730f",
   "metadata": {},
   "source": [
    "1. В колоде 52 карты. Вы поочерёдно вытаскиваете из колоды две карты, без возврата. Какова вероятность того, что вы вытащите два туза?\n"
   ]
  },
  {
   "cell_type": "code",
   "execution_count": 39,
   "id": "fcba5128-0d69-4f80-9743-12abdd0ac66d",
   "metadata": {},
   "outputs": [
    {
     "name": "stdout",
     "output_type": "stream",
     "text": [
      "вероятность того, что вы вытащите два туза: 0.0045\n"
     ]
    }
   ],
   "source": [
    "p_first_tuz= 4/52\n",
    "p_second_tuz= 3/51\n",
    "\n",
    "probability=p_first_tuz*p_second_tuz\n",
    "\n",
    "print(f'вероятность того, что вы вытащите два туза: {probability:.2}')"
   ]
  },
  {
   "cell_type": "markdown",
   "id": "d809f31b-dcf0-4be7-9e1b-d72f021d20ca",
   "metadata": {},
   "source": [
    "2. Ваш друг просыпается поздно в среднем четыре дня из пяти. Если он просыпается поздно, он опаздывает на работу с вероятностью 70%. Если же он просыпается вовремя, он опаздывает с вероятностью 10%. Какова вероятность того, что ваш друг опоздает на работу?\n"
   ]
  },
  {
   "cell_type": "code",
   "execution_count": 42,
   "id": "b6a8ac67-6e8a-4063-8341-196e89c0608f",
   "metadata": {},
   "outputs": [
    {
     "name": "stdout",
     "output_type": "stream",
     "text": [
      "ероятность того, что ваш друг опоздает на работу:  0.58\n"
     ]
    }
   ],
   "source": [
    "p_late=4/5\n",
    "p_not_late=1-p_late\n",
    "p_belate_given_late=0.7\n",
    "p_belate_given_not_late=0.1\n",
    "\n",
    "p_belate=(p_belate_given_late*p_late)+(p_belate_given_not_late*p_not_late)\n",
    "\n",
    "print(f'ероятность того, что ваш друг опоздает на работу: {p_belate: .2f}')"
   ]
  },
  {
   "cell_type": "markdown",
   "id": "9c67ddb8-9f49-462e-981c-bdae47008796",
   "metadata": {},
   "source": [
    "3. В мешке содержатся 3 белых шара, 4 зелёных шара и 5 красных шаров. Вы вытаскиваете поочерёдно два шара из мешка, без возврата. Какова вероятность того, что вы вытащите зелёный и красный шары в любом порядке?\n"
   ]
  },
  {
   "cell_type": "code",
   "execution_count": 45,
   "id": "875c4cd6-11a2-4976-8f76-df3121d2c49c",
   "metadata": {},
   "outputs": [
    {
     "name": "stdout",
     "output_type": "stream",
     "text": [
      "вероятность того, что вы вытащите зелёный и красный шары в любом порядке: 0.30\n"
     ]
    }
   ],
   "source": [
    "total_balls=12\n",
    "green_balls=4\n",
    "red_balls=5\n",
    "\n",
    "p_green_first=green_balls/total_balls\n",
    "p_red_second=red_balls/(total_balls-1)\n",
    "p_case1=p_green_first*p_red_second\n",
    "\n",
    "p_red_first=red_balls/total_balls\n",
    "p_green_second=green_balls/(total_balls-1)\n",
    "p_case2=p_red_first*p_green_second\n",
    "\n",
    "p_total=p_case1+p_case2\n",
    "\n",
    "print(f'вероятность того, что вы вытащите зелёный и красный шары в любом порядке: {p_total:.2f}')"
   ]
  },
  {
   "cell_type": "markdown",
   "id": "10757f3b-1acc-46dc-9444-46c4615d4b0a",
   "metadata": {},
   "source": [
    "4. На фабрике по производству чипсов 98% всех упаковок содержат вкусовые добавки. В рамках испытаний, группе добровольцев было предложено попробовать чипсы и определить имеются ли в них вкусовые добавки. 99% испытуемых попробовав чипсы со вкусовыми добавками ответили \"Да\". При этом, 2.5% испытуемых, которым были поданы чипсы без вкусовых добавок, также ответили \"Да\" . Если попробовав рандомно выбранную упаковку, испытуемый отвечает \"Нет\", какова вероятность того что чипсы действительно не содержат вкусовых добавок?\n"
   ]
  },
  {
   "cell_type": "code",
   "execution_count": 65,
   "id": "b8ab26e2-bb2c-43b8-8a7c-f297d1aafc59",
   "metadata": {},
   "outputs": [
    {
     "name": "stdout",
     "output_type": "stream",
     "text": [
      "вероятность того что чипсы действительно не содержат вкусовых добавок, если испытуемый отвечает \"Нет\": 0.67\n"
     ]
    }
   ],
   "source": [
    "p_A=0.02  # чипсы без вкусовых добавок\n",
    "p_not_A=1-p_A  # чипсы со вкусовыми добавками\n",
    "p_B_given_A=0.975  # испытуемый ответил \"Да\", если чипсы без добавок\n",
    "p_B_given_not_A=0.01  # испытуемый ответил \"Да\", если чипсы с добавками\n",
    "\n",
    "p_B=(p_B_given_A*p_A)+(p_B_given_not_A*p_not_A)\n",
    "\n",
    "p_A_given_B=(p_B_given_A*p_A)/p_B\n",
    "\n",
    "print(f'вероятность того что чипсы действительно не содержат вкусовых добавок, если испытуемый отвечает \"Нет\": {p_A_given_B:.2f}')"
   ]
  },
  {
   "cell_type": "markdown",
   "id": "dc946d2e-0cf4-49ff-94c0-ea0253fbf96e",
   "metadata": {},
   "source": [
    "5. Известно что движок некоей модели автомобиля перегревается в 3% случаев. При перегреве движка, в 98% случаев включается индикатор оповещения. Однако, в 1% случаев, индикатор включается без перегрева. Ответьте на следующие вопросы:\n",
    "\n",
    "*какова вероятность включения индикатора?\n",
    "\n",
    "*если водитель видит включённый индикатор, какова вероятность того что движок действительно перегрелся?"
   ]
  },
  {
   "cell_type": "code",
   "execution_count": 71,
   "id": "7da48cb3-8b8d-4f96-b87a-052923c93e5d",
   "metadata": {},
   "outputs": [
    {
     "name": "stdout",
     "output_type": "stream",
     "text": [
      "вероятность включения индикатора: 3.91%\n",
      "вероятность перегрева, если индикатор включён: 75.19%\n"
     ]
    }
   ],
   "source": [
    "p_A=0.03  # перегрев двигателя\n",
    "p_not_A=1-p_A  # двигатель не перегрелся\n",
    "p_B_given_A=0.98  # индикатор включится при перегреве\n",
    "p_B_given_not_A=0.01  # индикатор включается без перегрева\n",
    "\n",
    "p_B=(p_B_given_A*p_A)+(p_B_given_not_A*p_not_A)\n",
    "\n",
    "p_A_given_B=(p_B_given_A*p_A)/p_B\n",
    "\n",
    "print(f\"вероятность включения индикатора: {p_B:.2%}\")\n",
    "print(f\"вероятность перегрева, если индикатор включён: {p_A_given_B:.2%}\")"
   ]
  }
 ],
 "metadata": {
  "kernelspec": {
   "display_name": "Python 3 (ipykernel)",
   "language": "python",
   "name": "python3"
  },
  "language_info": {
   "codemirror_mode": {
    "name": "ipython",
    "version": 3
   },
   "file_extension": ".py",
   "mimetype": "text/x-python",
   "name": "python",
   "nbconvert_exporter": "python",
   "pygments_lexer": "ipython3",
   "version": "3.12.7"
  }
 },
 "nbformat": 4,
 "nbformat_minor": 5
}
