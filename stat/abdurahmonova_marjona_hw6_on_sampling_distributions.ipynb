{
 "cells": [
  {
   "cell_type": "markdown",
   "id": "7bd84a25-eb14-4251-882e-7224f1f6676e",
   "metadata": {},
   "source": [
    "## Домашнее задание по выборочным распределениям"
   ]
  },
  {
   "cell_type": "markdown",
   "id": "fdd1be66-cfb6-4a2e-a8be-8197ff91e051",
   "metadata": {},
   "source": [
    "### Исполнитель: Abdurahmonova Marjona"
   ]
  },
  {
   "cell_type": "markdown",
   "id": "b393e9c0-68d9-457f-96c7-d3c9cd195c7c",
   "metadata": {},
   "source": [
    "1. Имеется следующая выборка [6, 8, 11, 11, 17, 21, 34, 35, 41, 42, 43, 46, 54, 54, 59, 62], где каждое наблюдение это возраст человека. Какова точечная оценка среднего значения и стандартного отклонения популяции?"
   ]
  },
  {
   "cell_type": "code",
   "execution_count": 65,
   "id": "d61c841f-a39d-4aec-8b25-083664cee9f5",
   "metadata": {},
   "outputs": [],
   "source": [
    "import numpy as np"
   ]
  },
  {
   "cell_type": "code",
   "execution_count": 67,
   "id": "21a615ea-8157-44f6-9b30-0ff2cba503ad",
   "metadata": {},
   "outputs": [
    {
     "name": "stdout",
     "output_type": "stream",
     "text": [
      "среднего значения: 34.0\n",
      "стандартного отклонения популяции: 18.58\n"
     ]
    }
   ],
   "source": [
    "data=[6, 8, 11, 11, 17, 21, 34, 35, 41, 42, 43, 46, 54, 54, 59, 62]\n",
    "\n",
    "average_age=np.mean(data)\n",
    "population_std=np.std(data, ddof=0)\n",
    "\n",
    "print(f'среднего значения: {average_age}')\n",
    "print(f'стандартного отклонения популяции: {population_std:.2f}')"
   ]
  },
  {
   "cell_type": "markdown",
   "id": "9c5637c4-4d6e-4fd2-89bf-eec787cb4336",
   "metadata": {},
   "source": [
    "2.  24% всех производимых шоколадных драже M&M's красятся в синий цвет. В стандартном пакете чаще всего содержится 17 драже. Какова вероятность, что в купленном вами в магазине пакетике, доля синих драже будет больше 40%?"
   ]
  },
  {
   "cell_type": "code",
   "execution_count": 70,
   "id": "8486558e-0da0-479d-ae1b-1ebc97bf9e4d",
   "metadata": {},
   "outputs": [],
   "source": [
    "import scipy.stats as stats"
   ]
  },
  {
   "cell_type": "code",
   "execution_count": 72,
   "id": "56939268-d175-482b-a42c-926a79b23403",
   "metadata": {},
   "outputs": [
    {
     "name": "stdout",
     "output_type": "stream",
     "text": [
      "вероятность: 0.0612\n"
     ]
    }
   ],
   "source": [
    "total_candies=17\n",
    "blue_p=0.24\n",
    "threshoid=0.4\n",
    "\n",
    "mean_blue=blue_p\n",
    "std_blue=(blue_p*(1-blue_p)/total_candies)**0.5\n",
    "\n",
    "prob_more_than_threshoid=1-stats.norm.cdf(threshoid, loc=mean_blue, scale=std_blue)\n",
    "\n",
    "print(f'вероятность: {prob_more_than_threshoid:.4f}')"
   ]
  },
  {
   "cell_type": "markdown",
   "id": "ddbb9a5b-cf6f-4166-b15a-5e7b58709193",
   "metadata": {},
   "source": [
    "3. 64 мужчины были выбраны случайным образом и их веса были измерены. Среднее значение выборки составило 84 кг, а стандартное отклонение - 24 кг. Рассчитайте доверительный интервал для среднего значения популяции с 90%-м уровнем доверия.\n"
   ]
  },
  {
   "cell_type": "code",
   "execution_count": 75,
   "id": "446ca060-ee5d-4052-8ac5-072234760a71",
   "metadata": {},
   "outputs": [
    {
     "name": "stdout",
     "output_type": "stream",
     "text": [
      "доверительный интервал: 79.07, 88.93\n"
     ]
    }
   ],
   "source": [
    "sample_mean=84\n",
    "sample_std=24\n",
    "sample_size=64\n",
    "confidence_level=0.90\n",
    "\n",
    "z_critical=norm.ppf((1+confidence_level)/2)\n",
    "\n",
    "sem=sample_std/np.sqrt(sample_size)\n",
    "\n",
    "lower_bound=sample_mean-z_critical*sem\n",
    "upper_bound=sample_mean+z_critical*sem\n",
    "\n",
    "print(f'доверительный интервал: {lower_bound:.2f}, {upper_bound:.2f}')"
   ]
  },
  {
   "cell_type": "markdown",
   "id": "a603ad7f-38a8-4bfd-a7fe-ee2e32e33370",
   "metadata": {},
   "source": [
    "4. В 2003 году Дартмутская Медицинская Школа запустила исследование для изучения связи между просмотром фильмов с курящими актёрами и началом курения среди подростков. В исследовании были случайным образом отобраны 6522 американских подростка в возрасте 10-14 лет, которые никогда не пробовали курить до этого. Из тех, кто впоследствии попробовал курить впервые, 38% сделали это из-за воздействия курения в фильмах. Оцените долю всех американских подростков в возрасте 10-14 лет, которые начали курить из-за просмотра курящих актеров в фильмах, построив 95% доверительный интервал.\n"
   ]
  },
  {
   "cell_type": "code",
   "execution_count": 78,
   "id": "83f39c0b-e501-4010-8285-bd809dcc766b",
   "metadata": {},
   "outputs": [
    {
     "name": "stdout",
     "output_type": "stream",
     "text": [
      "95% доверительный интервал: (0.3682, 0.3918)\n"
     ]
    }
   ],
   "source": [
    "sample_proportion=0.38\n",
    "sample_size=6522\n",
    "confidence_level=0.95\n",
    "\n",
    "z_critical=norm.ppf((1+confidence_level)/2)\n",
    "\n",
    "se=np.sqrt(sample_proportion*(1-sample_proportion)/sample_size)\n",
    "\n",
    "lower_bound=sample_proportion-z_critical*se\n",
    "upper_bound=sample_proportion+z_critical*se\n",
    "\n",
    "print(f\"95% доверительный интервал: ({lower_bound:.4f}, {upper_bound:.4f})\")"
   ]
  },
  {
   "cell_type": "markdown",
   "id": "d2cabfcd-c926-4105-96d7-133e9353ef09",
   "metadata": {},
   "source": [
    "5. 49 женщин, были выбраны случайным образом и их высота была измерена. Среднее значение выборки составило 164 см, стандартное отклонение - 20 см. Рассчитайте доверительный интервал для среднего значения популяции с 95%-м уровнем доверия.\n"
   ]
  },
  {
   "cell_type": "code",
   "execution_count": 81,
   "id": "679b66de-a375-4368-bee8-b03016396728",
   "metadata": {},
   "outputs": [
    {
     "name": "stdout",
     "output_type": "stream",
     "text": [
      "95% доверительный интервал: (158.26, 169.74)\n"
     ]
    }
   ],
   "source": [
    "from scipy.stats import t\n",
    "\n",
    "sample_mean = 164\n",
    "sample_std = 20 \n",
    "sample_size = 49\n",
    "confidence_level = 0.95\n",
    "\n",
    "t_critical = t.ppf((1 + confidence_level) / 2, df=sample_size - 1)\n",
    "\n",
    "sem = sample_std / np.sqrt(sample_size)\n",
    "\n",
    "lower_bound = sample_mean - t_critical * sem\n",
    "upper_bound = sample_mean + t_critical * sem\n",
    "\n",
    "print(f\"95% доверительный интервал: ({lower_bound:.2f}, {upper_bound:.2f})\")"
   ]
  }
 ],
 "metadata": {
  "kernelspec": {
   "display_name": "Python 3 (ipykernel)",
   "language": "python",
   "name": "python3"
  },
  "language_info": {
   "codemirror_mode": {
    "name": "ipython",
    "version": 3
   },
   "file_extension": ".py",
   "mimetype": "text/x-python",
   "name": "python",
   "nbconvert_exporter": "python",
   "pygments_lexer": "ipython3",
   "version": "3.12.7"
  }
 },
 "nbformat": 4,
 "nbformat_minor": 5
}
