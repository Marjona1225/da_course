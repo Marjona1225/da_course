{
 "cells": [
  {
   "cell_type": "markdown",
   "id": "3b73f579-1877-4d4c-87b6-f31750b33962",
   "metadata": {},
   "source": [
    "## Домашнее задание по дискретным случайным величинам\n",
    " "
   ]
  },
  {
   "cell_type": "markdown",
   "id": "6973ec53-88b1-48bd-990b-7642e1fc46bf",
   "metadata": {},
   "source": [
    "### Исполнитель: Abdurahmonova Marjona"
   ]
  },
  {
   "cell_type": "markdown",
   "id": "d27b7635-0f7c-4744-b7f3-9c136fa57e4b",
   "metadata": {},
   "source": [
    "1. Четыре монеты подбрасываются разом. Если переменная X это количество полученных орлов, то чему равен P(X = 2)?"
   ]
  },
  {
   "cell_type": "code",
   "execution_count": 50,
   "id": "648dddb9-b77d-422e-a444-cf4cb688781b",
   "metadata": {},
   "outputs": [
    {
     "name": "stdout",
     "output_type": "stream",
     "text": [
      "P(X = 2) = 0.375\n"
     ]
    }
   ],
   "source": [
    "total_outcomes=2**4\n",
    "\n",
    "favorable_outcomes=combination(4, 2)\n",
    "\n",
    "probability=favorable_outcomes/total_outcomes\n",
    "\n",
    "print(f'P(X = 2) = {probability}')"
   ]
  },
  {
   "cell_type": "markdown",
   "id": "71a14581-20d3-4c9c-af2c-87506ac15b20",
   "metadata": {},
   "source": [
    "2. Четыре монеты подбрасываются разом. Если переменная X это количество полученных орлов, то чему равен P(X ≥ 1)?"
   ]
  },
  {
   "cell_type": "code",
   "execution_count": 56,
   "id": "559a1192-8089-4a6b-a7d7-ce6000c4c1ba",
   "metadata": {},
   "outputs": [
    {
     "name": "stdout",
     "output_type": "stream",
     "text": [
      "P(X ≥ 1) = 0.9375\n"
     ]
    }
   ],
   "source": [
    "p_X_equals_0=(1/2)**4\n",
    "\n",
    "p_X_greater_or_equal_1=1-p_X_equals_0\n",
    "\n",
    "print(f'P(X ≥ 1) = {p_X_greater_or_equal_1}')"
   ]
  },
  {
   "cell_type": "markdown",
   "id": "5a446c3f-9e23-41a6-8cc2-dc1a5c01b9d5",
   "metadata": {},
   "source": [
    "3. Вероятность того, что у рандомного человека группа крови А составляет 40%. Выберем случайным образом 4 человек и пусть случайная величина X будет количеством людей с типом крови А. Постройте биномиальное распределение этого эксперимента."
   ]
  },
  {
   "cell_type": "code",
   "execution_count": 66,
   "id": "a835c6fc-c21f-4d89-90b9-40415ceef867",
   "metadata": {},
   "outputs": [
    {
     "name": "stdout",
     "output_type": "stream",
     "text": [
      "биномиальное распределение:\n",
      "P(X = 0) = 0.1296\n",
      "P(X = 1) = 0.3456\n",
      "P(X = 2) = 0.3456\n",
      "P(X = 3) = 0.1536\n",
      "P(X = 4) = 0.0256\n"
     ]
    }
   ],
   "source": [
    "n = 4\n",
    "p = 0.4\n",
    "\n",
    "def binomial_probability(k, n, p):\n",
    "    from math import factorial\n",
    "    combinations = factorial(n) // (factorial(k) * factorial(n - k))\n",
    "    return combinations * (p**k) * ((1 - p)**(n - k))\n",
    "\n",
    "print('биномиальное распределение:')\n",
    "for k in range(n + 1):\n",
    "    probability = binomial_probability(k, n, p)\n",
    "    print(f\"P(X = {k}) = {probability:.4f}\")"
   ]
  },
  {
   "cell_type": "markdown",
   "id": "9c8b8e21-0f74-4199-99f1-7bc60370a371",
   "metadata": {},
   "source": [
    "4. Известно, что на сайте компании в час в среднем происходит 10 продаж. Какова вероятность того что в любой выбранный час количество продаж составит 8 штук?"
   ]
  },
  {
   "cell_type": "code",
   "execution_count": 78,
   "id": "bfaa1e80-9660-4d21-9225-6801a199b26a",
   "metadata": {},
   "outputs": [
    {
     "name": "stdout",
     "output_type": "stream",
     "text": [
      "P(X = 8) = 0.1126\n"
     ]
    }
   ],
   "source": [
    "lmbda = 10  # Среднее количество продаж\n",
    "k = 8       # Количество продаж\n",
    "\n",
    "e_minus_lambda = 0.0000454  # Приблизительное значение e^(-10)\n",
    "lambda_to_k = 10**8         # 10 в степени 8\n",
    "k_factorial = 40320         # Факториал 8\n",
    "\n",
    "P_X_k = (lambda_to_k * e_minus_lambda) / k_factorial\n",
    "\n",
    "print(f\"P(X = {k}) = {P_X_k:.4f}\")"
   ]
  },
  {
   "cell_type": "markdown",
   "id": "887f04bb-c9c4-4acc-8309-10ab6050ce4f",
   "metadata": {},
   "source": [
    "5. Игрок в баскетбол исполняет успешно 60% штрафных бросков. Если он выполнит 12 штрафных бросков, какова вероятность того, что он попадёт в цель ровно 10 раз?"
   ]
  },
  {
   "cell_type": "code",
   "execution_count": 94,
   "id": "4828cdfc-f366-4b65-9059-ebb01805a414",
   "metadata": {},
   "outputs": [
    {
     "name": "stdout",
     "output_type": "stream",
     "text": [
      "P(X = 10) = 0.0639\n"
     ]
    }
   ],
   "source": [
    "from math import comb\n",
    "n = 12\n",
    "k = 10\n",
    "p = 0.6\n",
    "\n",
    "p_X_k = comb(n, k) * (p**k) * ((1 - p)**(n - k))\n",
    "\n",
    "print(f'P(X = {k}) = {p_X_k:.4f}')"
   ]
  }
 ],
 "metadata": {
  "kernelspec": {
   "display_name": "Python 3 (ipykernel)",
   "language": "python",
   "name": "python3"
  },
  "language_info": {
   "codemirror_mode": {
    "name": "ipython",
    "version": 3
   },
   "file_extension": ".py",
   "mimetype": "text/x-python",
   "name": "python",
   "nbconvert_exporter": "python",
   "pygments_lexer": "ipython3",
   "version": "3.12.7"
  }
 },
 "nbformat": 4,
 "nbformat_minor": 5
}
