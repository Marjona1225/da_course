{
 "cells": [
  {
   "cell_type": "markdown",
   "id": "ed518e05-b21a-40e0-84f7-2cc1cb89da81",
   "metadata": {},
   "source": [
    "# Домашнее задание по выборочным распределениям\n"
   ]
  },
  {
   "cell_type": "markdown",
   "id": "4767b1d7-0561-4e7f-b1fc-0806e11d9591",
   "metadata": {},
   "source": [
    "### Исполнитель: Abdurahmonova Marjona"
   ]
  },
  {
   "cell_type": "markdown",
   "id": "f5974484-0e58-4196-bbb9-3e6e350d66f7",
   "metadata": {},
   "source": [
    "Решите следующие задачи, принимая уровень значимости равным 5%:  \n"
   ]
  },
  {
   "cell_type": "markdown",
   "id": "47a8fbe8-48e5-4cc8-8ae0-d695230574bf",
   "metadata": {},
   "source": [
    "1. Производитель светодиодных лампочек заявляет что их продукция имеет средний срок службы в 2000 часов. Клиент считает что срок службы лампочек меньше заявляемого компанией. Чтобы проверить это клиент купил 50 лампочек производства этой компании и их средний срок службы составил 1980 часов, со стандартным отклонением в 66 часов. Проверьте гипотезы и вынесите заключение.\n"
   ]
  },
  {
   "cell_type": "code",
   "execution_count": 43,
   "id": "e8335b73-3cd4-41cb-9440-8756301a9fb1",
   "metadata": {},
   "outputs": [
    {
     "name": "stdout",
     "output_type": "stream",
     "text": [
      "t-статистика: -2.1427\n",
      "Критическое t-значение: -1.6766\n",
      "p-значение: 0.0186\n",
      "Отклоняем нулевую гипотезу: средний срок службы лампочек меньше 2000 часов.\n"
     ]
    }
   ],
   "source": [
    "from scipy.stats import t\n",
    "\n",
    "sample_mean=1980\n",
    "pop_mean=2000\n",
    "sample_std=66\n",
    "sample_size=50\n",
    "alpha=0.05\n",
    "\n",
    "t_stat=(sample_mean-pop_mean)/(sample_std/(sample_size**0.5))\n",
    "\n",
    "t_critical=t.ppf(alpha, df=sample_size-1)\n",
    "\n",
    "p_value=t.cdf(t_stat, df=sample_size-1)\n",
    "\n",
    "print(f\"t-статистика: {t_stat:.4f}\")\n",
    "print(f\"Критическое t-значение: {t_critical:.4f}\")\n",
    "print(f\"p-значение: {p_value:.4f}\")\n",
    "\n",
    "if t_stat<t_critical:\n",
    "    print(\"Отклоняем нулевую гипотезу: средний срок службы лампочек меньше 2000 часов.\")\n",
    "else:\n",
    "    print(\"Нет оснований отвергать нулевую гипотезу: недостаточно доказательств, что срок службы лампочек меньше 2000 часов.\")"
   ]
  },
  {
   "cell_type": "markdown",
   "id": "9af3c978-b390-4c42-b6ce-dc005becd7d3",
   "metadata": {},
   "source": [
    "2. Фасовочная машина заполняет мешки рисом в среднем по 1000гр на мешок и стандартным отклонением в 5гр. У производителя есть подозрение, что машина фасует рис в среднем больше требуемого. Он поручил сделать выборку из 100 мешков и их средний вес оказался равным 1003гр. Оправданы ли подозрения производителя?\n"
   ]
  },
  {
   "cell_type": "code",
   "execution_count": 45,
   "id": "98024d19-40b0-4932-a367-822748bc9c8d",
   "metadata": {},
   "outputs": [
    {
     "name": "stdout",
     "output_type": "stream",
     "text": [
      "Z-статистика: 6.0000\n",
      "Критическое Z-значение: 1.6449\n",
      "P-значение: 0.0000\n",
      "Отклоняем нулевую гипотезу: машина фасует больше 1000 г в среднем.\n"
     ]
    }
   ],
   "source": [
    "from scipy.stats import norm\n",
    "\n",
    "sample_mean=1003\n",
    "pop_mean=1000\n",
    "pop_std=5\n",
    "sample_size=100\n",
    "alpha=0.05\n",
    "\n",
    "z_stat=(sample_mean-pop_mean)/(pop_std/(sample_size**0.5))\n",
    "\n",
    "z_critical=norm.ppf(1-alpha)\n",
    "\n",
    "p_value=1-norm.cdf(z_stat)\n",
    "\n",
    "print(f\"Z-статистика: {z_stat:.4f}\")\n",
    "print(f\"Критическое Z-значение: {z_critical:.4f}\")\n",
    "print(f\"P-значение: {p_value:.4f}\")\n",
    "\n",
    "if z_stat>z_critical:\n",
    "    print(\"Отклоняем нулевую гипотезу: машина фасует больше 1000 г в среднем.\")\n",
    "else:\n",
    "    print(\"Нет оснований отвергать нулевую гипотезу: недостаточно доказательств, что машина фасует больше 1000 г.\")"
   ]
  },
  {
   "cell_type": "markdown",
   "id": "358dbdd9-ccff-46a2-ada5-bb409542d80c",
   "metadata": {},
   "source": [
    "3. Утверждается что домашние коты живут в среднем 15.7 лет. Учёный решил проверить истинность этого утверждения и замерил срок жизни 40 домашних котов в своём городе. Средний срок жизни котов в выборке оказался равным 16.5 годам со стандартным отклонением в 1.6 лет. Значит ли это, что коты в среднем живут дольше чем принято считать?\n"
   ]
  },
  {
   "cell_type": "code",
   "execution_count": 48,
   "id": "613737c5-90b2-42ac-80ee-b6d8bba876df",
   "metadata": {},
   "outputs": [
    {
     "name": "stdout",
     "output_type": "stream",
     "text": [
      "T-статистика: 3.1623\n",
      "Критическое T-значение: 1.6849\n",
      "P-значение: 0.0015\n",
      "Отклоняем нулевую гипотезу: коты в этом городе живут дольше 15.7 лет.\n"
     ]
    }
   ],
   "source": [
    "sample_mean=16.5\n",
    "pop_mean=15.7\n",
    "sample_std=1.6\n",
    "sample_size=40\n",
    "alpha=0.05\n",
    "\n",
    "t_stat=(sample_mean-pop_mean)/(sample_std/(sample_size**0.5))\n",
    "\n",
    "t_critical=t.ppf(1-alpha, df=sample_size-1)\n",
    "\n",
    "p_value=1-t.cdf(t_stat, df=sample_size-1)\n",
    "\n",
    "print(f\"T-статистика: {t_stat:.4f}\")\n",
    "print(f\"Критическое T-значение: {t_critical:.4f}\")\n",
    "print(f\"P-значение: {p_value:.4f}\")\n",
    "\n",
    "if t_stat>t_critical:\n",
    "    print(\"Отклоняем нулевую гипотезу: коты в этом городе живут дольше 15.7 лет.\")\n",
    "else:\n",
    "    print(\"Нет оснований отвергать нулевую гипотезу: недостаточно доказательств, что коты живут дольше 15.7 лет.\")"
   ]
  },
  {
   "cell_type": "markdown",
   "id": "b696c1a4-e71e-459e-a153-a714522604cd",
   "metadata": {},
   "source": [
    "4. Здоровый новорожденный весит в среднем 3.40кг со стандартным отклонением в 0.45кг. Выборка из 49 новорожденных была взвешена и средний вес оказался равным 3.29кг. Проверьте следующие гипотезы: $H_o: \\mu=3.4$ и $H_a: \\mu<3.4$\n"
   ]
  },
  {
   "cell_type": "code",
   "execution_count": 51,
   "id": "65b0da5d-44a9-4182-8a07-5543eb123efa",
   "metadata": {},
   "outputs": [
    {
     "name": "stdout",
     "output_type": "stream",
     "text": [
      "Z-статистика: -1.7111\n",
      "Критическое Z-значение: -1.6449\n",
      "P-значение: 0.0435\n",
      "Отклоняем нулевую гипотезу: средний вес новорожденных меньше 3.40 кг.\n"
     ]
    }
   ],
   "source": [
    "sample_mean=3.29\n",
    "pop_mean=3.40\n",
    "pop_std=0.45\n",
    "sample_size=49\n",
    "alpha=0.05\n",
    "\n",
    "z_stat=(sample_mean-pop_mean)/(pop_std/(sample_size**0.5))\n",
    "\n",
    "z_critical=norm.ppf(alpha)\n",
    "\n",
    "p_value=norm.cdf(z_stat)\n",
    "\n",
    "print(f\"Z-статистика: {z_stat:.4f}\")\n",
    "print(f\"Критическое Z-значение: {z_critical:.4f}\")\n",
    "print(f\"P-значение: {p_value:.4f}\")\n",
    "\n",
    "if z_stat<z_critical:\n",
    "    print(\"Отклоняем нулевую гипотезу: средний вес новорожденных меньше 3.40 кг.\")\n",
    "else:\n",
    "    print(\"Нет оснований отвергать нулевую гипотезу: недостаточно доказательств, что средний вес новорожденных меньше 3.40 кг.\")"
   ]
  },
  {
   "cell_type": "markdown",
   "id": "70d31032-98cd-4013-a12a-d0f088e80292",
   "metadata": {},
   "source": [
    "5. В популяции средний показатель IQ составляет 100 со стандартным отклонением 15. Команда ученых хочет проверить новое лекарство, чтобы выяснить, оказывает ли оно положительное или отрицательное влияние на интеллект, или же не оказывает никакого эффекта. В выборке из 30 участников, которые принимали лекарство, средний показатель IQ составил 140. Повлияло ли лекарство на интеллект?\n"
   ]
  },
  {
   "cell_type": "code",
   "execution_count": 53,
   "id": "df01b331-61c8-4344-8159-700b943b50cd",
   "metadata": {},
   "outputs": [
    {
     "name": "stdout",
     "output_type": "stream",
     "text": [
      "Z-статистика: 14.6059\n",
      "Критическое Z-значение: 1.9600\n",
      "P-значение: 0.0000\n",
      "Отклоняем нулевую гипотезу: лекарство повлияло на IQ.\n"
     ]
    }
   ],
   "source": [
    "sample_mean=140\n",
    "pop_mean=100\n",
    "pop_std=15\n",
    "sample_size=30\n",
    "alpha=0.05\n",
    "\n",
    "z_stat=(sample_mean-pop_mean)/(pop_std/(sample_size**0.5))\n",
    "\n",
    "z_critical=norm.ppf(1-alpha/2)\n",
    "\n",
    "p_value=2*(1-norm.cdf(abs(z_stat)))\n",
    "\n",
    "print(f\"Z-статистика: {z_stat:.4f}\")\n",
    "print(f\"Критическое Z-значение: {z_critical:.4f}\")\n",
    "print(f\"P-значение: {p_value:.4f}\")\n",
    "\n",
    "if abs(z_stat)>z_critical:\n",
    "    print(\"Отклоняем нулевую гипотезу: лекарство повлияло на IQ.\")\n",
    "else:\n",
    "    print(\"Нет оснований отвергать нулевую гипотезу: недостаточно доказательств, что лекарство повлияло на IQ.\")"
   ]
  }
 ],
 "metadata": {
  "kernelspec": {
   "display_name": "Python 3 (ipykernel)",
   "language": "python",
   "name": "python3"
  },
  "language_info": {
   "codemirror_mode": {
    "name": "ipython",
    "version": 3
   },
   "file_extension": ".py",
   "mimetype": "text/x-python",
   "name": "python",
   "nbconvert_exporter": "python",
   "pygments_lexer": "ipython3",
   "version": "3.12.7"
  }
 },
 "nbformat": 4,
 "nbformat_minor": 5
}
