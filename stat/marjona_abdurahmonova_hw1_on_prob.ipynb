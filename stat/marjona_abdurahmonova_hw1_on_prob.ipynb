{
 "cells": [
  {
   "cell_type": "markdown",
   "id": "8452e89b-888d-4d86-a8bc-6d548bdd0258",
   "metadata": {},
   "source": [
    "## Домашнее задание по возможностям"
   ]
  },
  {
   "cell_type": "markdown",
   "id": "9ba6fcc4-855b-40b0-b85c-f75644e350e9",
   "metadata": {},
   "source": [
    "### Исполнитель: Abdurahmonova Marjona"
   ]
  },
  {
   "cell_type": "markdown",
   "id": "df19ebab-912d-4379-9638-1b1a5d16da60",
   "metadata": {},
   "source": [
    "#### 1. В колоде 52 карты. Мы решили вытащить из нее одну карту. Какова вероятность того, что это будет туз?"
   ]
  },
  {
   "cell_type": "code",
   "execution_count": 39,
   "id": "d3e2907a-bc8e-4498-8088-9d2a5f2028e1",
   "metadata": {},
   "outputs": [
    {
     "name": "stdout",
     "output_type": "stream",
     "text": [
      "Вероятность вытащить туз: 0.08\n"
     ]
    }
   ],
   "source": [
    "total_cards=52\n",
    "aces=4\n",
    "p=aces/total_cards\n",
    "print(f'Вероятность вытащить туз: {p:.2f}')"
   ]
  },
  {
   "cell_type": "markdown",
   "id": "5126e610-bf3f-4c75-80b2-9caac1616a33",
   "metadata": {},
   "source": [
    "#### 2. Какова вероятность того, что у трёх случайно выбранных людей будет одинаковая группа крови? \n",
    "Подсказка: для решения этой задачи нужно использовать как правило умножения, так и правило сложения.\n"
   ]
  },
  {
   "cell_type": "code",
   "execution_count": 34,
   "id": "a6619089-4f68-40a4-aaec-c90ca3776385",
   "metadata": {},
   "outputs": [
    {
     "name": "stdout",
     "output_type": "stream",
     "text": [
      "Вероятность одинаковой группы крови у троих: 0.10\n"
     ]
    }
   ],
   "source": [
    "p1=0.4\n",
    "p2=0.3\n",
    "p3=0.2\n",
    "p4=0.1\n",
    "\n",
    "p_same_1=p1*p1*p1\n",
    "p_same_2=p2*p2*p2\n",
    "p_same_3=p3*p3*p3\n",
    "p_same_4=p4*p4*p4\n",
    "\n",
    "total_pro=p_same_1+p_same_2+p_same_3+p_same_4\n",
    "\n",
    "print(f'Вероятность одинаковой группы крови у троих: {total_pro:.2f}')\n"
   ]
  },
  {
   "cell_type": "markdown",
   "id": "0dab54b1-f0ce-40ba-8965-bbc77a09772c",
   "metadata": {},
   "source": [
    "#### 3. Студент, дает тест на основе 30 вопросов с оригинальными вариантами ответов, из которых лишь один правильный. Так как он вообще не посещает урок, он просто наугад выбирает один из вариантов для каждого вопроса. Какова вероятность того, что он правильно ответит хотя бы на один вопрос?\n"
   ]
  },
  {
   "cell_type": "code",
   "execution_count": 45,
   "id": "e26297dd-8973-4f60-86e1-097b80baa017",
   "metadata": {},
   "outputs": [
    {
     "name": "stdout",
     "output_type": "stream",
     "text": [
      "Вероятность того, что он правильно ответит хотя бы на один вопрос: 1.00\n"
     ]
    }
   ],
   "source": [
    "p_wrong=3/4\n",
    "p_all_wrong=p_wrong**30\n",
    "\n",
    "p_a_least_one_correct=1-p_all_wrong\n",
    "\n",
    "print(f'Вероятность того, что он правильно ответит хотя бы на один вопрос: {p_a_least_one_correct:.2f}')"
   ]
  },
  {
   "cell_type": "markdown",
   "id": "8ddff45e-a0c4-4eed-aa93-f4ccbb7cac02",
   "metadata": {},
   "source": [
    "#### 4. Какова вероятность того, что хотя бы один из двух случайно выбранных людей в месяц рождения был таким же, как и вы?\n"
   ]
  },
  {
   "cell_type": "code",
   "execution_count": 48,
   "id": "6833e03f-6773-4a25-90d2-0bb9080ce7e9",
   "metadata": {},
   "outputs": [
    {
     "name": "stdout",
     "output_type": "stream",
     "text": [
      "Вероятность того, что хотя бы один из двух людей совпадет с вами по месяцу рождения: 0.16\n"
     ]
    }
   ],
   "source": [
    "p_no_match = 11 / 12\n",
    "\n",
    "p_both_no_match = p_no_match ** 2\n",
    "\n",
    "p_at_least_one_match = 1 - p_both_no_match\n",
    "print(f\"Вероятность того, что хотя бы один из двух людей совпадет с вами по месяцу рождения: {p_at_least_one_match:.2f}\")"
   ]
  },
  {
   "cell_type": "markdown",
   "id": "7afe783d-b8a5-496f-b28f-3bdfa360b0eb",
   "metadata": {},
   "source": [
    "#### 5. В колоде 52 карты. Мы решили вытащить из нее одну карту. Какова вероятность того, что это будет либо валет, либо пиковая карта?\n"
   ]
  },
  {
   "cell_type": "code",
   "execution_count": 57,
   "id": "ac98cbeb-f0e4-4a37-9b10-8b9e42e9d093",
   "metadata": {},
   "outputs": [
    {
     "name": "stdout",
     "output_type": "stream",
     "text": [
      "Вероятность того, что вытащенная карта будет либо валет, либо пиковая карта: 0.31\n"
     ]
    }
   ],
   "source": [
    "total_cards = 52\n",
    "jacks = 4\n",
    "spades = 13\n",
    "spades_jack = 1\n",
    "valid_cards = jacks + spades - spades_jack\n",
    "probability = valid_cards / total_cards\n",
    "print(f\"Вероятность того, что вытащенная карта будет либо валет, либо пиковая карта: {probability:.2f}\")"
   ]
  },
  {
   "cell_type": "code",
   "execution_count": null,
   "id": "e6c76ecb-7b58-4486-85e7-a827975acaf9",
   "metadata": {},
   "outputs": [],
   "source": []
  }
 ],
 "metadata": {
  "kernelspec": {
   "display_name": "Python 3 (ipykernel)",
   "language": "python",
   "name": "python3"
  },
  "language_info": {
   "codemirror_mode": {
    "name": "ipython",
    "version": 3
   },
   "file_extension": ".py",
   "mimetype": "text/x-python",
   "name": "python",
   "nbconvert_exporter": "python",
   "pygments_lexer": "ipython3",
   "version": "3.12.7"
  }
 },
 "nbformat": 4,
 "nbformat_minor": 5
}
