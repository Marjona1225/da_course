{
 "cells": [
  {
   "cell_type": "markdown",
   "id": "4b07bc31-df0b-4cda-b0ef-64b9391f1165",
   "metadata": {},
   "source": [
    "## Домашнее задание по комбинаторике\n"
   ]
  },
  {
   "cell_type": "markdown",
   "id": "de3aa4e6-f49b-4cc5-978b-0d8c11475f4a",
   "metadata": {},
   "source": [
    "### Исполнитель: Abdurahmonova Marjona"
   ]
  },
  {
   "cell_type": "markdown",
   "id": "cd95191a-c60f-4600-91b5-81901c3e9a4c",
   "metadata": {},
   "source": [
    "1. Макс забыл пароль от своего телефона. Пароль состоял из пяти значений, каждое из которых может быть цифрой от 0 до 9. Сколько всего вариантов должен перебрать Макс, чтобы подобрать пароль к своему телефону?"
   ]
  },
  {
   "cell_type": "code",
   "execution_count": 13,
   "id": "7f536147-933a-4e80-97e0-0637f6a329fb",
   "metadata": {},
   "outputs": [
    {
     "name": "stdout",
     "output_type": "stream",
     "text": [
      "100000 вариантов должен перебрать Макс\n"
     ]
    }
   ],
   "source": [
    "num=10\n",
    "password=5\n",
    "\n",
    "options=num**password\n",
    "print(f'{options} вариантов должен перебрать Макс')"
   ]
  },
  {
   "cell_type": "markdown",
   "id": "484bfffb-ce2a-4b7b-9852-1c6a2ce4c17c",
   "metadata": {},
   "source": [
    "2. У Малики есть все семь книг серии о Гарри Поттере. Сколькими способами она может расставить эти книги на полке?"
   ]
  },
  {
   "cell_type": "code",
   "execution_count": 19,
   "id": "d979e264-c546-4d01-b767-4b55dbcdcd9d",
   "metadata": {},
   "outputs": [
    {
     "name": "stdout",
     "output_type": "stream",
     "text": [
      "5040 способами она может расставить эти книги на полке\n"
     ]
    }
   ],
   "source": [
    "import math\n",
    "\n",
    "books=7\n",
    "\n",
    "ways=math.factorial(books)\n",
    "print(f'{ways} способами она может расставить эти книги на полке')"
   ]
  },
  {
   "cell_type": "markdown",
   "id": "dadb22c5-5fc2-4d42-856b-3e77259ab995",
   "metadata": {},
   "source": [
    "3. На окружности круга размещены 9 точек. Сколько можно провести линий, соединяющих эти точки?\n"
   ]
  },
  {
   "cell_type": "code",
   "execution_count": 26,
   "id": "72c05d22-a1c9-4b11-8a9d-f2054df5837f",
   "metadata": {},
   "outputs": [
    {
     "name": "stdout",
     "output_type": "stream",
     "text": [
      " можно провести 36 линий, соединяющих эти точки\n"
     ]
    }
   ],
   "source": [
    "dots=9\n",
    "\n",
    "lines=(dots*(dots-1))//2\n",
    "\n",
    "print(f' можно провести {lines} линий, соединяющих эти точки')"
   ]
  },
  {
   "cell_type": "markdown",
   "id": "c6436007-c005-48a4-84cd-fb38a0114bec",
   "metadata": {},
   "source": [
    "4. Транс-Сибирская железнодорожная магистраль тянется от Москвы до Владивостока. Всего, магистраль состоит из 19 станций. На билете указывается станция отбытия и станция пребытия. Сколько всего вариантов билетов существует?"
   ]
  },
  {
   "cell_type": "code",
   "execution_count": 29,
   "id": "4fee3049-d57d-4cec-9e5f-28b0dd999b29",
   "metadata": {},
   "outputs": [
    {
     "name": "stdout",
     "output_type": "stream",
     "text": [
      " всего 342 вариантов билета существует\n"
     ]
    }
   ],
   "source": [
    "stations=19\n",
    "\n",
    "tikets=stations*(stations-1)\n",
    "\n",
    "print(f' всего {tikets} вариантов билета существует')"
   ]
  },
  {
   "cell_type": "markdown",
   "id": "c4f6e516-2d31-46e8-8a45-3a23345078c9",
   "metadata": {},
   "source": [
    "5. Вы работаете в команде из 13 человек. Ваш менеджер решает рандомно выбрать 3 человек из команды и отправить на конференцию в Анталию, которая будет длится 4 дня. Какова вероятность того, что вам посчастливится поехать на конференцию?"
   ]
  },
  {
   "cell_type": "code",
   "execution_count": 35,
   "id": "f5db2752-9240-4c06-864d-4af419e6b7f2",
   "metadata": {},
   "outputs": [
    {
     "data": {
      "text/plain": [
       "0.23076923076923078"
      ]
     },
     "execution_count": 35,
     "metadata": {},
     "output_type": "execute_result"
    }
   ],
   "source": [
    "total_people=13\n",
    "\n",
    "chosen_people=3\n",
    "\n",
    "total_ways=(total_people*(total_people-1)*(total_people-2))//(3*2*1)\n",
    "\n",
    "favorable_ways=((total_people-1)*(total_people-2))//(2*1)\n",
    "\n",
    "probability=favorable_ways/total_ways\n",
    "\n",
    "probability"
   ]
  }
 ],
 "metadata": {
  "kernelspec": {
   "display_name": "Python 3 (ipykernel)",
   "language": "python",
   "name": "python3"
  },
  "language_info": {
   "codemirror_mode": {
    "name": "ipython",
    "version": 3
   },
   "file_extension": ".py",
   "mimetype": "text/x-python",
   "name": "python",
   "nbconvert_exporter": "python",
   "pygments_lexer": "ipython3",
   "version": "3.12.7"
  }
 },
 "nbformat": 4,
 "nbformat_minor": 5
}
